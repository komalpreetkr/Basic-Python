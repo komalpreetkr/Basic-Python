{
  "nbformat": 4,
  "nbformat_minor": 0,
  "metadata": {
    "colab": {
      "provenance": []
    },
    "kernelspec": {
      "name": "python3",
      "display_name": "Python 3"
    },
    "language_info": {
      "name": "python"
    }
  },
  "cells": [
    {
      "cell_type": "code",
      "execution_count": 1,
      "metadata": {
        "colab": {
          "base_uri": "https://localhost:8080/"
        },
        "id": "_zURXESMD9zu",
        "outputId": "d7bf07ea-5a5c-42b4-ce77-ecebc40935de"
      },
      "outputs": [
        {
          "output_type": "stream",
          "name": "stdout",
          "text": [
            "(i) [11, 12, 13, 14, 50, 60]\n",
            "(ii) [12, 14, 50, 60]\n",
            "(iii) [12, 14, 50, 60]\n",
            "(iv) [60, 50, 14, 12]\n",
            "(v) 13 is not present in L\n",
            "(vi) Number of elements: 4\n",
            "(vii) Sum of elements: 136\n",
            "(viii) Sum of odd numbers: 0\n",
            "(ix) Sum of even numbers: 136\n",
            "(x) Sum of prime numbers: 0\n",
            "(xi) []\n",
            "(xii) L is deleted.\n"
          ]
        }
      ],
      "source": [
        "# Initial list\n",
        "L = [11, 12, 13, 14]\n",
        "\n",
        "# (i) Add 50 and 60 to L\n",
        "L.append(50)\n",
        "L.append(60)\n",
        "print(\"(i)\", L)\n",
        "\n",
        "# (ii) Remove 11 and 13 from L\n",
        "L.remove(11)\n",
        "L.remove(13)\n",
        "print(\"(ii)\", L)\n",
        "\n",
        "# (iii) Sort L in ascending order\n",
        "L.sort()\n",
        "print(\"(iii)\", L)\n",
        "\n",
        "# (iv) Sort L in descending order\n",
        "L.sort(reverse=True)\n",
        "print(\"(iv)\", L)\n",
        "\n",
        "# (v) Search for 13 in L\n",
        "if 13 in L:\n",
        "    print(\"(v) 13 is present in L\")\n",
        "else:\n",
        "    print(\"(v) 13 is not present in L\")\n",
        "\n",
        "# (vi) Count the number of elements in L\n",
        "print(\"(vi) Number of elements:\", len(L))\n",
        "\n",
        "# (vii) Sum all the elements in L\n",
        "print(\"(vii) Sum of elements:\", sum(L))\n",
        "\n",
        "# (viii) Sum all ODD numbers in L\n",
        "odd_sum = sum(i for i in L if i % 2 != 0)\n",
        "print(\"(viii) Sum of odd numbers:\", odd_sum)\n",
        "\n",
        "# (ix) Sum all EVEN numbers in L\n",
        "even_sum = sum(i for i in L if i % 2 == 0)\n",
        "print(\"(ix) Sum of even numbers:\", even_sum)\n",
        "\n",
        "# (x) Sum all PRIME numbers in L\n",
        "def is_prime(n):\n",
        "    if n <= 1:\n",
        "        return False\n",
        "    for i in range(2, int(n**0.5)+1):\n",
        "        if n % i == 0:\n",
        "            return False\n",
        "    return True\n",
        "\n",
        "prime_sum = sum(i for i in L if is_prime(i))\n",
        "print(\"(x) Sum of prime numbers:\", prime_sum)\n",
        "\n",
        "# (xi) Clear all elements in L\n",
        "L.clear()\n",
        "print(\"(xi)\", L)\n",
        "\n",
        "# (xii) Delete L\n",
        "del L\n",
        "# print(L)  # This would give an error because L is deleted\n",
        "print(\"(xii) L is deleted.\")\n"
      ]
    },
    {
      "cell_type": "code",
      "source": [
        "D = {1:5.6, 2:7.8, 3:6.6, 4:8.7, 5:7.7}\n",
        "\n",
        "# (i) Add key=8, value=8.8\n",
        "D[8] = 8.8\n",
        "print(\"(i)\", D)\n",
        "\n",
        "# (ii) Remove key=2\n",
        "D.pop(2, None)\n",
        "print(\"(ii)\", D)\n",
        "\n",
        "# (iii) Check if key 6 is present\n",
        "print(\"(iii) Key 6 present?\" , 6 in D)\n",
        "\n",
        "# (iv) Count elements\n",
        "print(\"(iv) Number of elements:\", len(D))\n",
        "\n",
        "# (v) Add all values\n",
        "print(\"(v) Sum of all values:\", sum(D.values()))\n",
        "\n",
        "# (vi) Update value of 3 to 7.1\n",
        "D[3] = 7.1\n",
        "print(\"(vi)\", D)\n",
        "\n",
        "# (vii) Clear the dictionary\n",
        "D.clear()\n",
        "print(\"(vii)\", D)\n"
      ],
      "metadata": {
        "colab": {
          "base_uri": "https://localhost:8080/"
        },
        "id": "CjYDrllyFQ24",
        "outputId": "7140ec9a-f96c-42f4-8aff-ac35dd05c31b"
      },
      "execution_count": 2,
      "outputs": [
        {
          "output_type": "stream",
          "name": "stdout",
          "text": [
            "(i) {1: 5.6, 2: 7.8, 3: 6.6, 4: 8.7, 5: 7.7, 8: 8.8}\n",
            "(ii) {1: 5.6, 3: 6.6, 4: 8.7, 5: 7.7, 8: 8.8}\n",
            "(iii) Key 6 present? False\n",
            "(iv) Number of elements: 5\n",
            "(v) Sum of all values: 37.4\n",
            "(vi) {1: 5.6, 3: 7.1, 4: 8.7, 5: 7.7, 8: 8.8}\n",
            "(vii) {}\n"
          ]
        }
      ]
    },
    {
      "cell_type": "code",
      "source": [
        "S1 = {10, 20, 30, 40, 50, 60}\n",
        "S2 = {40, 50, 60, 70, 80, 90}\n",
        "\n",
        "# (i) Add 55 and 66 to S1\n",
        "S1.add(55)\n",
        "S1.add(66)\n",
        "print(\"(i)\", S1)\n",
        "\n",
        "# (ii) Remove 10 and 30 from S1\n",
        "S1.discard(10)\n",
        "S1.discard(30)\n",
        "print(\"(ii)\", S1)\n",
        "\n",
        "# (iii) Check if 40 is present in S1\n",
        "print(\"(iii) Is 40 in S1?\", 40 in S1)\n",
        "\n",
        "# (iv) Union of S1 and S2\n",
        "print(\"(iv) Union:\", S1.union(S2))\n",
        "\n",
        "# (v) Intersection of S1 and S2\n",
        "print(\"(v) Intersection:\", S1.intersection(S2))\n",
        "\n",
        "# (vi) S1 - S2\n",
        "print(\"(vi) S1 - S2:\", S1.difference(S2))\n"
      ],
      "metadata": {
        "colab": {
          "base_uri": "https://localhost:8080/"
        },
        "id": "Ymo4zN4JFVK6",
        "outputId": "96440622-2126-4b10-ea37-f0d8aa57d6a5"
      },
      "execution_count": 3,
      "outputs": [
        {
          "output_type": "stream",
          "name": "stdout",
          "text": [
            "(i) {50, 66, 20, 55, 40, 10, 60, 30}\n",
            "(ii) {50, 66, 20, 55, 40, 60}\n",
            "(iii) Is 40 in S1? True\n",
            "(iv) Union: {66, 70, 40, 80, 50, 20, 55, 90, 60}\n",
            "(v) Intersection: {40, 50, 60}\n",
            "(vi) S1 - S2: {66, 20, 55}\n"
          ]
        }
      ]
    },
    {
      "cell_type": "code",
      "source": [
        "import random\n",
        "import string\n",
        "\n",
        "# (i) 100 random strings of length between 6 and 8\n",
        "print(\"(i) 100 Random Strings:\")\n",
        "for _ in range(100):\n",
        "    length = random.randint(6, 8)\n",
        "    rand_str = ''.join(random.choices(string.ascii_letters, k=length))\n",
        "    print(rand_str)\n",
        "\n",
        "# (ii) Prime numbers between 600 and 800\n",
        "print(\"\\n(ii) Prime numbers between 600 and 800:\")\n",
        "def is_prime(n):\n",
        "    if n < 2:\n",
        "        return False\n",
        "    for i in range(2, int(n**0.5)+1):\n",
        "        if n % i == 0:\n",
        "            return False\n",
        "    return True\n",
        "\n",
        "primes = [x for x in range(600, 801) if is_prime(x)]\n",
        "print(primes)\n",
        "\n",
        "# (iii) Numbers between 100 and 1000 divisible by both 7 and 9\n",
        "print(\"\\n(iii) Numbers divisible by 7 and 9 between 100 and 1000:\")\n",
        "divisible = [x for x in range(100, 1001) if x % 7 == 0 and x % 9 == 0]\n",
        "print(divisible)\n"
      ],
      "metadata": {
        "colab": {
          "base_uri": "https://localhost:8080/"
        },
        "id": "SLRWZEN5FXFA",
        "outputId": "76ec85e1-7e5f-46e0-e54d-0587fdeca9ce"
      },
      "execution_count": 4,
      "outputs": [
        {
          "output_type": "stream",
          "name": "stdout",
          "text": [
            "(i) 100 Random Strings:\n",
            "TcyJavs\n",
            "McSpCq\n",
            "idzpBLT\n",
            "bVAMct\n",
            "UNsaicc\n",
            "tSDTamjc\n",
            "HVDKFY\n",
            "lTeqxhPP\n",
            "woFDCDOy\n",
            "ZwIOwrvu\n",
            "fcozfW\n",
            "CpBJJZfK\n",
            "BgubUhGY\n",
            "zqFhzr\n",
            "fqNDGe\n",
            "piVDiXaQ\n",
            "lrrUch\n",
            "jCiaOish\n",
            "raSDAwK\n",
            "PcZBxSHe\n",
            "fwywRXj\n",
            "doXgjyj\n",
            "jRqbfE\n",
            "zpwuSSoy\n",
            "cnubRu\n",
            "adxZIR\n",
            "azZXZRJh\n",
            "xpqjXf\n",
            "FXLlaz\n",
            "wIjsumvZ\n",
            "ppEHYs\n",
            "cHjwNsvX\n",
            "mfXhzfrS\n",
            "xFxutYg\n",
            "dqKElM\n",
            "AWMiTVw\n",
            "LcqCwE\n",
            "mtoDUTy\n",
            "yBKuXCn\n",
            "ufDvqEM\n",
            "hKpFQBEO\n",
            "TYnhtOE\n",
            "faJYIxS\n",
            "grxAvo\n",
            "gjrDxOzr\n",
            "pztpfe\n",
            "dKTZnK\n",
            "tpiqdHmf\n",
            "lJqViLV\n",
            "GtbBfR\n",
            "duVMJtYq\n",
            "cafIGMX\n",
            "NRnhwNF\n",
            "UiWSIIKE\n",
            "eqxscA\n",
            "NDUbQzZ\n",
            "ScpIuh\n",
            "ARWHfAo\n",
            "IIOpgA\n",
            "WZPBFe\n",
            "UYVChNF\n",
            "RMvKmbB\n",
            "RRuoVr\n",
            "KTpxDpv\n",
            "EuMnvMms\n",
            "NGKNxaT\n",
            "fuLUDZvF\n",
            "iIpjDNeY\n",
            "rbFkeoWI\n",
            "sAuEpcy\n",
            "sbSMNQN\n",
            "vvfoHEIj\n",
            "aWBMlMjh\n",
            "musBWp\n",
            "EVGfIa\n",
            "RrPFGAq\n",
            "zkOMLhmp\n",
            "mfiYin\n",
            "sqlmUze\n",
            "RRKNtt\n",
            "gQrSMbJb\n",
            "NxdYInl\n",
            "BusZZa\n",
            "KcjSOdjx\n",
            "tFjyAx\n",
            "hypXdYK\n",
            "UKgxHT\n",
            "MhrnEHb\n",
            "hJnULDOP\n",
            "ZoSqlg\n",
            "jgcwBycQ\n",
            "JEqYgrH\n",
            "gqngcJf\n",
            "iTEGAfPd\n",
            "zDNzZF\n",
            "dVJiqOm\n",
            "kDEqpCLt\n",
            "xGMqHspy\n",
            "RwUpYsh\n",
            "fkaxCt\n",
            "\n",
            "(ii) Prime numbers between 600 and 800:\n",
            "[601, 607, 613, 617, 619, 631, 641, 643, 647, 653, 659, 661, 673, 677, 683, 691, 701, 709, 719, 727, 733, 739, 743, 751, 757, 761, 769, 773, 787, 797]\n",
            "\n",
            "(iii) Numbers divisible by 7 and 9 between 100 and 1000:\n",
            "[126, 189, 252, 315, 378, 441, 504, 567, 630, 693, 756, 819, 882, 945]\n"
          ]
        }
      ]
    },
    {
      "cell_type": "code",
      "source": [
        "# Create two lists\n",
        "L1 = [random.randint(10, 30) for _ in range(10)]\n",
        "L2 = [random.randint(10, 30) for _ in range(10)]\n",
        "\n",
        "print(\"L1 =\", L1)\n",
        "print(\"L2 =\", L2)\n",
        "\n",
        "# (i) Common numbers\n",
        "common = list(set(L1) & set(L2))\n",
        "print(\"(i) Common:\", common)\n",
        "\n",
        "# (ii) Unique numbers (in both)\n",
        "unique = list((set(L1) ^ set(L2)))\n",
        "print(\"(ii) Unique:\", unique)\n",
        "\n",
        "# (iii) Minimum in both lists\n",
        "print(\"(iii) Min of L1:\", min(L1), \", Min of L2:\", min(L2))\n",
        "\n",
        "# (iv) Maximum in both lists\n",
        "print(\"(iv) Max of L1:\", max(L1), \", Max of L2:\", max(L2))\n",
        "\n",
        "# (v) Sum of both lists\n",
        "print(\"(v) Sum of L1:\", sum(L1), \", Sum of L2:\", sum(L2))\n"
      ],
      "metadata": {
        "colab": {
          "base_uri": "https://localhost:8080/"
        },
        "id": "mC01JbQMFZ-8",
        "outputId": "626544b8-7dbf-4afc-fdbb-b5c5ffd48850"
      },
      "execution_count": 5,
      "outputs": [
        {
          "output_type": "stream",
          "name": "stdout",
          "text": [
            "L1 = [21, 16, 28, 14, 15, 17, 29, 19, 21, 12]\n",
            "L2 = [23, 27, 26, 10, 23, 19, 25, 22, 13, 10]\n",
            "(i) Common: [19]\n",
            "(ii) Unique: [10, 12, 13, 14, 15, 16, 17, 21, 22, 23, 25, 26, 27, 28, 29]\n",
            "(iii) Min of L1: 12 , Min of L2: 10\n",
            "(iv) Max of L1: 29 , Max of L2: 27\n",
            "(v) Sum of L1: 192 , Sum of L2: 198\n"
          ]
        }
      ]
    },
    {
      "cell_type": "code",
      "source": [
        "import random\n",
        "\n",
        "nums = [random.randint(100, 900) for _ in range(100)]\n",
        "\n",
        "# (i) All odd numbers\n",
        "odd_nums = [x for x in nums if x % 2 != 0]\n",
        "print(\"Odd count:\", len(odd_nums))\n",
        "\n",
        "# (ii) All even numbers\n",
        "even_nums = [x for x in nums if x % 2 == 0]\n",
        "print(\"Even count:\", len(even_nums))\n",
        "\n",
        "# (iii) All prime numbers\n",
        "def is_prime(n):\n",
        "    if n < 2:\n",
        "        return False\n",
        "    for i in range(2, int(n**0.5)+1):\n",
        "        if n % i == 0:\n",
        "            return False\n",
        "    return True\n",
        "\n",
        "prime_nums = [x for x in nums if is_prime(x)]\n",
        "print(\"Prime count:\", len(prime_nums))\n"
      ],
      "metadata": {
        "colab": {
          "base_uri": "https://localhost:8080/"
        },
        "id": "FvsB_rhGFdMT",
        "outputId": "7ada3e79-02dc-45da-fa0f-51df7bf84c3a"
      },
      "execution_count": 6,
      "outputs": [
        {
          "output_type": "stream",
          "name": "stdout",
          "text": [
            "Odd count: 49\n",
            "Even count: 51\n",
            "Prime count: 17\n"
          ]
        }
      ]
    },
    {
      "cell_type": "code",
      "source": [
        "D = {1: \"One\", 2: \"Two\", 3: \"Three\", 4: \"Four\", 5: \"Five\"}\n",
        "\n",
        "with open(\"dictionary_output.txt\", \"w\") as file:\n",
        "    for k, v in D.items():\n",
        "        file.write(f\"{k}, {v}\\n\")\n"
      ],
      "metadata": {
        "id": "Luj7m1daFf3G"
      },
      "execution_count": 7,
      "outputs": []
    },
    {
      "cell_type": "code",
      "source": [
        "L = [\"One\", \"Two\", \"Three\", \"Four\", \"Five\"]\n",
        "\n",
        "with open(\"length_output.txt\", \"w\") as file:\n",
        "    for word in L:\n",
        "        file.write(f\"{word}, {len(word)}\\n\")\n"
      ],
      "metadata": {
        "id": "FIV7oQ_rFicM"
      },
      "execution_count": 8,
      "outputs": []
    },
    {
      "cell_type": "code",
      "source": [
        "import string\n",
        "\n",
        "with open(\"random_strings.txt\", \"w\") as file:\n",
        "    for _ in range(100):\n",
        "        length = random.randint(10, 15)\n",
        "        rand_str = ''.join(random.choices(string.ascii_letters, k=length))\n",
        "        file.write(rand_str + \"\\n\")\n"
      ],
      "metadata": {
        "id": "5umvT3_VFkra"
      },
      "execution_count": 10,
      "outputs": []
    },
    {
      "cell_type": "code",
      "source": [
        "with open(\"primes_600_800.txt\", \"w\") as file:\n",
        "    for num in range(600, 801):\n",
        "        if is_prime(num):\n",
        "            file.write(str(num) + \"\\n\")\n"
      ],
      "metadata": {
        "id": "9JX6KWhqFo4K"
      },
      "execution_count": 12,
      "outputs": []
    },
    {
      "cell_type": "code",
      "source": [
        "import time\n",
        "\n",
        "start = time.time()\n",
        "\n",
        "# Sample work (replace with any code to test)\n",
        "for i in range(1, 100000):\n",
        "    pass\n",
        "\n",
        "end = time.time()\n",
        "print(\"Time taken:\", end - start, \"seconds\")\n"
      ],
      "metadata": {
        "colab": {
          "base_uri": "https://localhost:8080/"
        },
        "id": "VZnMNk5cFri_",
        "outputId": "429610a3-8ea3-4452-c8db-169752162e94"
      },
      "execution_count": 13,
      "outputs": [
        {
          "output_type": "stream",
          "name": "stdout",
          "text": [
            "Time taken: 0.004355907440185547 seconds\n"
          ]
        }
      ]
    },
    {
      "cell_type": "code",
      "source": [
        "import random\n",
        "import time\n",
        "import matplotlib.pyplot as plt\n",
        "\n",
        "sizes = [5000, 10000, 15000, 20000, 25000]\n",
        "times = []\n",
        "\n",
        "for size in sizes:\n",
        "    lst = [random.randint(1, 100000) for _ in range(size)]\n",
        "    start = time.time()\n",
        "    lst.sort()\n",
        "    end = time.time()\n",
        "    times.append(end - start)\n",
        "\n",
        "# Print table values\n",
        "for i in range(len(sizes)):\n",
        "    print(f\"{sizes[i]} elements sorted in {times[i]:.4f} seconds\")\n",
        "\n",
        "# Plotting the graph\n",
        "plt.plot(sizes, times, marker='o')\n",
        "plt.title('Time Taken to Sort Lists of Varying Sizes')\n",
        "plt.xlabel('Number of Elements')\n",
        "plt.ylabel('Time Taken (seconds)')\n",
        "plt.grid(True)\n",
        "plt.show()\n"
      ],
      "metadata": {
        "colab": {
          "base_uri": "https://localhost:8080/",
          "height": 559
        },
        "id": "QZznJGLUFs3Y",
        "outputId": "e981ae74-3230-42d7-b7de-4f5c44b0033a"
      },
      "execution_count": 14,
      "outputs": [
        {
          "output_type": "stream",
          "name": "stdout",
          "text": [
            "5000 elements sorted in 0.0010 seconds\n",
            "10000 elements sorted in 0.0024 seconds\n",
            "15000 elements sorted in 0.0165 seconds\n",
            "20000 elements sorted in 0.0165 seconds\n",
            "25000 elements sorted in 0.0199 seconds\n"
          ]
        },
        {
          "output_type": "display_data",
          "data": {
            "text/plain": [
              "<Figure size 640x480 with 1 Axes>"
            ],
            "image/png": "[encoded data removed]"
          },
          "metadata": {}
        }
      ]
    },
    {
      "cell_type": "code",
      "source": [
        "students = {\n",
        "    \"Amit\": [80, 85, 78, 90, 88],\n",
        "    \"Neha\": [70, 75, 72, 78, 80],\n",
        "    \"Raj\": [90, 92, 95, 89, 94],\n",
        "    \"Simran\": [60, 65, 70, 68, 62],\n",
        "    \"Anil\": [85, 88, 82, 87, 90]\n",
        "}\n",
        "\n",
        "averages = {name: sum(marks)/len(marks) for name, marks in students.items()}\n",
        "\n",
        "max_student = max(averages, key=averages.get)\n",
        "min_student = min(averages, key=averages.get)\n",
        "\n",
        "print(f\"Maximum Average: {max_student} → {averages[max_student]}\")\n",
        "print(f\"Minimum Average: {min_student} → {averages[min_student]}\")\n"
      ],
      "metadata": {
        "colab": {
          "base_uri": "https://localhost:8080/"
        },
        "id": "yw6eqoOgFwVd",
        "outputId": "b1fec802-63a6-4d72-c79e-6e6255083489"
      },
      "execution_count": 15,
      "outputs": [
        {
          "output_type": "stream",
          "name": "stdout",
          "text": [
            "Maximum Average: Raj → 92.0\n",
            "Minimum Average: Simran → 65.0\n"
          ]
        }
      ]
    }
  ]
}